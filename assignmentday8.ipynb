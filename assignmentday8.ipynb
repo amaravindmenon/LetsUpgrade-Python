{
  "nbformat": 4,
  "nbformat_minor": 0,
  "metadata": {
    "colab": {
      "name": "assignmnetday8.ipynb",
      "provenance": [],
      "authorship_tag": "ABX9TyN4vOSg4D7VL3rWta6dRuCQ",
      "include_colab_link": true
    },
    "kernelspec": {
      "name": "python3",
      "display_name": "Python 3"
    }
  },
  "cells": [
    {
      "cell_type": "markdown",
      "metadata": {
        "id": "view-in-github",
        "colab_type": "text"
      },
      "source": [
        "<a href=\"https://colab.research.google.com/github/amaravindmenon/LetsUpgrade-Python/blob/master/assignmentday8.ipynb\" target=\"_parent\"><img src=\"https://colab.research.google.com/assets/colab-badge.svg\" alt=\"Open In Colab\"/></a>"
      ]
    },
    {
      "cell_type": "code",
      "metadata": {
        "id": "RHwXtqaxDNRW",
        "colab_type": "code",
        "colab": {
          "base_uri": "https://localhost:8080/",
          "height": 68
        },
        "outputId": "77418019-b970-450c-a865-8a10af7b53ec"
      },
      "source": [
        "# file decorators\n",
        "def fun(fun,val):\n",
        "    def Fibonacci():\n",
        "        print(\"Fibonacci series start printing...\")\n",
        "        n1,n2 = 0,1\n",
        "        count = 0\n",
        "        while count < val:\n",
        "            print(n1,end=\" \")\n",
        "            nth = n1+n2\n",
        "            n1 = n2\n",
        "            n2 = nth\n",
        "            count +=1\n",
        "        fun()\n",
        "    return Fibonacci\n",
        "\n",
        "def done():\n",
        "    print(\"\\nFibonacci series done\")\n",
        "\n",
        "funused = fun(done,15)\n",
        "funused()"
      ],
      "execution_count": 3,
      "outputs": [
        {
          "output_type": "stream",
          "text": [
            "Fibonacci series start printing...\n",
            "0 1 1 2 3 5 8 13 21 34 55 89 144 233 377 \n",
            "Fibonacci series done\n"
          ],
          "name": "stdout"
        }
      ]
    },
    {
      "cell_type": "code",
      "metadata": {
        "id": "kHoauc6SDo9q",
        "colab_type": "code",
        "colab": {}
      },
      "source": [
        "#you need to create file name file.txt to run this program\n",
        "\n",
        "f = open('file.txt','r')\n",
        "try:\n",
        "    f.write(\"add some more data in it\")\n",
        "except IOError as e:\n",
        "    print(f\"Sorry Error is: {e}\")\n",
        "    f.close()"
      ],
      "execution_count": null,
      "outputs": []
    }
  ]
}