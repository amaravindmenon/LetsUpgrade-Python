{
  "nbformat": 4,
  "nbformat_minor": 0,
  "metadata": {
    "colab": {
      "name": "Assignmentday9.ipynb",
      "provenance": [],
      "authorship_tag": "ABX9TyNnRYIyPBbaOmRH4A2hBlJw",
      "include_colab_link": true
    },
    "kernelspec": {
      "name": "python3",
      "display_name": "Python 3"
    }
  },
  "cells": [
    {
      "cell_type": "markdown",
      "metadata": {
        "id": "view-in-github",
        "colab_type": "text"
      },
      "source": [
        "<a href=\"https://colab.research.google.com/github/amaravindmenon/LetsUpgrade-Python/blob/master/Assignmentday9.ipynb\" target=\"_parent\"><img src=\"https://colab.research.google.com/assets/colab-badge.svg\" alt=\"Open In Colab\"/></a>"
      ]
    },
    {
      "cell_type": "code",
      "metadata": {
        "id": "5Vp3XGavIY3w",
        "colab_type": "code",
        "colab": {
          "base_uri": "https://localhost:8080/",
          "height": 34
        },
        "outputId": "034dd5ab-e50f-4e51-b49b-7d00d4df25be"
      },
      "source": [
        "# QUESTION 1 (USING UNITTEST CASE)\n",
        "\n",
        "%%writefile primes.py\n",
        "'''\n",
        "Prime number function\n",
        "'''\n",
        "def is_prime(number):\n",
        "    \"\"\"Return True if *number* is prime.\"\"\"\n",
        "    if number <= 1:\n",
        "        return False\n",
        "\n",
        "    for element in range(2, number):\n",
        "        if number % element == 0:\n",
        "            return False\n",
        "\n",
        "    return True"
      ],
      "execution_count": 37,
      "outputs": [
        {
          "output_type": "stream",
          "text": [
            "Writing primes.py\n"
          ],
          "name": "stdout"
        }
      ]
    },
    {
      "cell_type": "code",
      "metadata": {
        "id": "6An5yRCGErOS",
        "colab_type": "code",
        "colab": {
          "base_uri": "https://localhost:8080/",
          "height": 34
        },
        "outputId": "2a1ee733-12ca-4abd-cfcd-81873643ca3d"
      },
      "source": [
        "%%writefile prime.py\n",
        "\n",
        "import unittest\n",
        "from primes import is_prime\n",
        "\n",
        "class PrimesTestCase(unittest.TestCase):\n",
        "    \"\"\"Tests for `primes.py`.\"\"\"\n",
        "\n",
        "    def test_is_five_prime(self):\n",
        "        \"\"\"Is five successfully determined to be prime?\"\"\"\n",
        "        self.assertTrue(is_prime(5))\n",
        "\n",
        "if __name__ == '__main__':\n",
        "    unittest.main()"
      ],
      "execution_count": 38,
      "outputs": [
        {
          "output_type": "stream",
          "text": [
            "Overwriting prime.py\n"
          ],
          "name": "stdout"
        }
      ]
    },
    {
      "cell_type": "code",
      "metadata": {
        "id": "gk1T0xIgHuoL",
        "colab_type": "code",
        "colab": {
          "base_uri": "https://localhost:8080/",
          "height": 102
        },
        "outputId": "79e17f8c-a299-44e3-f1fc-2faf0d6b1812"
      },
      "source": [
        "! python prime.py"
      ],
      "execution_count": 39,
      "outputs": [
        {
          "output_type": "stream",
          "text": [
            ".\n",
            "----------------------------------------------------------------------\n",
            "Ran 1 test in 0.000s\n",
            "\n",
            "OK\n"
          ],
          "name": "stdout"
        }
      ]
    },
    {
      "cell_type": "code",
      "metadata": {
        "id": "oarlpXcLJWFd",
        "colab_type": "code",
        "colab": {
          "base_uri": "https://localhost:8080/",
          "height": 34
        },
        "outputId": "7634bdfe-756b-4f56-f373-01b59a823257"
      },
      "source": [
        "#QUESTION 1 (USING PYLINT)\n",
        "\n",
        "%%writefile primes.py\n",
        "'''\n",
        "Prime number function\n",
        "'''\n",
        "def is_prime(number):\n",
        "    \"\"\"Return True if *number* is prime.\"\"\"\n",
        "    if number <= 1:\n",
        "        return False\n",
        "\n",
        "    for element in range(2, number):\n",
        "        if number % element == 0 :\n",
        "            return False\n",
        "\n",
        "    return True"
      ],
      "execution_count": 66,
      "outputs": [
        {
          "output_type": "stream",
          "text": [
            "Overwriting primes.py\n"
          ],
          "name": "stdout"
        }
      ]
    },
    {
      "cell_type": "code",
      "metadata": {
        "id": "nsLCI0lhJrYJ",
        "colab_type": "code",
        "colab": {
          "base_uri": "https://localhost:8080/",
          "height": 119
        },
        "outputId": "67153ee0-fbc4-41aa-8ba4-22d801c02075"
      },
      "source": [
        "! pylint primes.py"
      ],
      "execution_count": 67,
      "outputs": [
        {
          "output_type": "stream",
          "text": [
            "************* Module primes\n",
            "primes.py:13:0: C0304: Final newline missing (missing-final-newline)\n",
            "\n",
            "------------------------------------------------------------------\n",
            "Your code has been rated at 8.57/10 (previous run: 8.57/10, +0.00)\n",
            "\n"
          ],
          "name": "stdout"
        }
      ]
    },
    {
      "cell_type": "code",
      "metadata": {
        "id": "dIDJHuqgIvqW",
        "colab_type": "code",
        "colab": {
          "base_uri": "https://localhost:8080/",
          "height": 136
        },
        "outputId": "7272eda8-4b9d-4d77-9bed-c464f47a3cfd"
      },
      "source": [
        "#QUESTION 2\n",
        "\n",
        "def armgen(start,end):\n",
        " for num in range(start,end):\n",
        "  temp=num\n",
        "  sum=0\n",
        "  while temp>0:\n",
        "    digit=temp%10\n",
        "    sum=sum+digit**3\n",
        "    temp=temp//10\n",
        "  if sum==num:\n",
        "    yield num\n",
        "ob = armgen(1,1000)\n",
        "print(\"Generators\")\n",
        "print(\"Armstrong Numbers between 0 and 1000\")\n",
        "for i in ob:\n",
        "  print(i)"
      ],
      "execution_count": 42,
      "outputs": [
        {
          "output_type": "stream",
          "text": [
            "Generators\n",
            "Armstrong Numbers between 0 and 1000\n",
            "1\n",
            "153\n",
            "370\n",
            "371\n",
            "407\n"
          ],
          "name": "stdout"
        }
      ]
    }
  ]
}